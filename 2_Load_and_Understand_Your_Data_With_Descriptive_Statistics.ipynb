{
 "cells": [
  {
   "cell_type": "markdown",
   "metadata": {},
   "source": [
    "# Load and Understand Your Machine Learning Data With Descriptive Statistics\n",
    "Machine Learning Mastery With Python: Understand Your Data, Create Accurate Models and Work Projects End-To-End\n",
    "by\n",
    "Jason Brownlee\n",
    "\n",
    "Migrated to Jupyter with additions by Mitch Sanders 5/15/2017"
   ]
  },
  {
   "cell_type": "markdown",
   "metadata": {},
   "source": [
    "## How To Load Machine Learning Data\n",
    "You must be able to load your data before you can start your machine learning project. The\n",
    "most common format for machine learning data is CSV files. There are a number of ways to\n",
    "load a CSV file in Python. In this lesson you will learn three ways that you can use to load\n",
    "your CSV data in Python:\n",
    "1. Load CSV Files with the Python Standard Library.\n",
    "2. Load CSV Files with NumPy.\n",
    "3. Load CSV Files with Pandas.\n",
    "\n",
    "Let’s get started"
   ]
  },
  {
   "cell_type": "markdown",
   "metadata": {},
   "source": [
    "### Considerations When Loading CSV Data\n",
    "There are a number of considerations when loading your machine learning data from CSV files.\n",
    "For reference, you can learn a lot about the expectations for CSV files by reviewing the CSV\n",
    "request for comment titled Common Format and MIME Type for Comma-Separated Values\n",
    "(CSV) Files\n",
    ".\n",
    "#### File Header\n",
    "Does your data have a file header? If so this can help in automatically assigning names to each\n",
    "column of data. If not, you may need to name your attributes manually. Either way, you should\n",
    "explicitly specify whether or not your CSV file had a file header when loading your data.\n",
    "#### Comments\n",
    "Does your data have comments? Comments in a CSV file are indicated by a hash (#) at the\n",
    "start of a line. If you have comments in your file, depending on the method used to load your\n",
    "data, you may need to indicate whether or not to expect comments and the character to expect\n",
    "to signify a comment line.\n",
    "#### Delimiter\n",
    "The standard delimiter that separates values in fields is the comma (,) character. Your file could\n",
    "use a different delimiter like tab or white space in which case you must specify it explicitly.\n",
    "#### Quotes\n",
    "Sometimes field values can have spaces. In these CSV files the values are often quoted. The\n",
    "default quote character is the double quotation marks character. Other characters can be used,\n",
    "and you must specify the quote character used in your file.\n"
   ]
  },
  {
   "cell_type": "markdown",
   "metadata": {},
   "source": [
    "### Pima Indians Dataset\n",
    "The Pima Indians dataset is used to demonstrate data loading in this lesson. It will also be used\n",
    "in many of the lessons to come. This dataset describes the medical records for Pima Indians\n",
    "and whether or not each patient will have an onset of diabetes within five years. As such it\n",
    "is a classification problem. It is a good dataset for demonstration because all of the input\n",
    "attributes are numeric and the output variable to be predicted is binary (0 or 1). The data is\n",
    "freely available from the UCI Machine Learning Repository - https://archive.ics.uci.edu/ml/datasets/Pima+Indians+Diabetes"
   ]
  },
  {
   "cell_type": "markdown",
   "metadata": {},
   "source": [
    "### Load CSV Files with the Python Standard Library\n",
    "The Python API provides the module CSV and the function reader() that can be used to load\n",
    "CSV files. Once loaded, you can convert the CSV data to a NumPy array and use it for machine\n",
    "learning. For example, you can download3\n",
    "the Pima Indians dataset into your local directory\n",
    "with the filename pima-indians-diabetes.data.csv. All fields in this dataset are numeric\n",
    "and there is no header line."
   ]
  },
  {
   "cell_type": "code",
   "execution_count": null,
   "metadata": {
    "collapsed": false
   },
   "outputs": [],
   "source": [
    "# Load CSV Using Python Standard Library\n",
    "import csv\n",
    "import numpy\n",
    "filename = 'pima-indians-diabetes.data.csv'\n",
    "raw_data = open(filename, 'rb')\n",
    "reader = csv.reader(raw_data, delimiter=',', quoting=csv.QUOTE_NONE)\n",
    "x = list(reader)\n",
    "data = numpy.array(x).astype('float')\n",
    "print(data.shape)"
   ]
  },
  {
   "cell_type": "code",
   "execution_count": null,
   "metadata": {
    "collapsed": false
   },
   "outputs": [],
   "source": [
    "type(raw_data)"
   ]
  },
  {
   "cell_type": "markdown",
   "metadata": {},
   "source": [
    "### Load CSV File with NumPy to an ndarray Array Type\n",
    "You can load your CSV data using NumPy and the numpy.loadtxt() function. This function\n",
    "assumes no header row and all data has the same format. The example below assumes that the\n",
    "file pima-indians-diabetes.data.csv is in your current working directory.\n"
   ]
  },
  {
   "cell_type": "code",
   "execution_count": null,
   "metadata": {
    "collapsed": false
   },
   "outputs": [],
   "source": [
    "# Load CSV using NumPy\n",
    "from numpy import loadtxt\n",
    "filename = 'pima-indians-diabetes.data.csv'\n",
    "raw_data = open(filename, 'rb')\n",
    "data = loadtxt(raw_data, delimiter=\",\")\n",
    "print(data.shape)"
   ]
  },
  {
   "cell_type": "code",
   "execution_count": null,
   "metadata": {
    "collapsed": false
   },
   "outputs": [],
   "source": [
    "type(data)"
   ]
  },
  {
   "cell_type": "code",
   "execution_count": null,
   "metadata": {
    "collapsed": false
   },
   "outputs": [],
   "source": [
    "# Load CSV from URL using NumPy\n",
    "from numpy import loadtxt\n",
    "from urllib import urlopen\n",
    "url = 'https://goo.gl/vhm1eU'\n",
    "raw_data = urlopen(url)\n",
    "dataset = loadtxt(raw_data, delimiter=\",\")\n",
    "print(dataset.shape)"
   ]
  },
  {
   "cell_type": "markdown",
   "metadata": {},
   "source": [
    "### Load CSV File with Pandas\n",
    "You can load your CSV data using Pandas and the pandas.read csv() function. This function\n",
    "is very flexible and is perhaps my recommended approach for loading your machine learning\n",
    "data. The function returns a pandas.DataFrame7\n",
    "that you can immediately start summarizing\n",
    "and plotting. The example below assumes that the pima-indians-diabetes.data.csv file is\n",
    "in the current working directory."
   ]
  },
  {
   "cell_type": "code",
   "execution_count": null,
   "metadata": {
    "collapsed": false
   },
   "outputs": [],
   "source": [
    "# Load CSV using Pandas\n",
    "from pandas import read_csv\n",
    "filename = 'pima-indians-diabetes.data.csv'\n",
    "names = ['preg', 'plas', 'pres', 'skin', 'test', 'mass', 'pedi', 'age', 'class']\n",
    "data = read_csv(filename, names=names)\n",
    "print(data.shape)"
   ]
  },
  {
   "cell_type": "code",
   "execution_count": null,
   "metadata": {
    "collapsed": false
   },
   "outputs": [],
   "source": [
    "type(data)"
   ]
  },
  {
   "cell_type": "code",
   "execution_count": null,
   "metadata": {
    "collapsed": false
   },
   "outputs": [],
   "source": [
    "# Load CSV using Pandas from URL\n",
    "from pandas import read_csv\n",
    "url = 'https://goo.gl/vhm1eU'\n",
    "names = ['preg', 'plas', 'pres', 'skin', 'test', 'mass', 'pedi', 'age', 'class']\n",
    "data = read_csv(url, names=names)\n",
    "print(data.shape)"
   ]
  },
  {
   "cell_type": "code",
   "execution_count": null,
   "metadata": {
    "collapsed": false
   },
   "outputs": [],
   "source": [
    "# Class Distribution\n",
    "from pandas import read_csv\n",
    "filename = \"pima-indians-diabetes.data.csv\"\n",
    "names = ['preg', 'plas', 'pres', 'skin', 'test', 'mass', 'pedi', 'age', 'class']\n",
    "data = read_csv(filename, names=names)\n",
    "class_counts = data.groupby('class').size()\n",
    "print(class_counts);"
   ]
  },
  {
   "cell_type": "markdown",
   "metadata": {},
   "source": [
    "Generally I recommend that you load your data with Pandas in practice and all subsequent examples will use this method.\n"
   ]
  },
  {
   "cell_type": "markdown",
   "metadata": {},
   "source": [
    "Documentation:\n",
    "\n",
    "http://pandas.pydata.org/pandas-docs/stable/generated/pandas.read_csv.html\n",
    "\n",
    "https://docs.python.org/2/library/csv.html\n",
    "\n",
    "http://docs.scipy.org/doc/numpy-1.10.0/reference/generated/numpy.ndarray.html\n",
    "\n",
    "http://docs.scipy.org/doc/numpy-1.10.0/reference/generated/numpy.loadtxt.html\n",
    "\n",
    "http://pandas.pydata.org/pandas-docs/stable/generated/pandas.DataFrame.html\n"
   ]
  },
  {
   "cell_type": "markdown",
   "metadata": {},
   "source": [
    "## Understand Your Data With Descriptive Statistics\n",
    "You must understand your data in order to get the best results. In this chapter you will discover\n",
    "7 recipes that you can use in Python to better understand your machine learning data. After\n",
    "reading this lesson you will know how to:\n",
    "1. Take a peek at your raw data.\n",
    "2. Review the dimensions of your dataset.\n",
    "3. Review the data types of attributes in your data.\n",
    "4. Summarize the distribution of instances across classes in your dataset.\n",
    "5. Summarize your data using descriptive statistics.\n",
    "6. Understand the relationships in your data using correlations.\n",
    "7. Review the skew of the distributions of each attribute.\n",
    "Each recipe is demonstrated by loading the Pima Indians Diabetes classification dataset\n",
    "from the UCI Machine Learning repository. Open your Python interactive environment and try\n",
    "each recipe out in turn. \n",
    "\n",
    "Let’s get started.\n"
   ]
  },
  {
   "cell_type": "markdown",
   "metadata": {},
   "source": [
    "### Peek at Your Data\n",
    "There is no substitute for looking at the raw data. Looking at the raw data can reveal insights\n",
    "that you cannot get any other way. It can also plant seeds that may later grow into ideas on\n",
    "how to better pre-process and handle the data for machine learning tasks. You can review the\n",
    "first 20 rows of your data using the head() function on the Pandas DataFrame.\n"
   ]
  },
  {
   "cell_type": "code",
   "execution_count": null,
   "metadata": {
    "collapsed": false
   },
   "outputs": [],
   "source": [
    "# View first 20 rows\n",
    "from pandas import read_csv\n",
    "filename = \"pima-indians-diabetes.data.csv\"\n",
    "names = ['preg', 'plas', 'pres', 'skin', 'test', 'mass', 'pedi', 'age', 'class']\n",
    "data = read_csv(filename, names=names)\n",
    "peek = data.head(20)\n",
    "print(peek)"
   ]
  },
  {
   "cell_type": "code",
   "execution_count": null,
   "metadata": {
    "collapsed": false
   },
   "outputs": [],
   "source": [
    "?numpy"
   ]
  },
  {
   "cell_type": "markdown",
   "metadata": {},
   "source": [
    "### Dimensions of Your Data\n",
    "You must have a very good handle on how much data you have, both in terms of rows and\n",
    "columns.\n",
    "- Too many rows and algorithms may take too long to train. Too few and perhaps you do\n",
    "not have enough data to train the algorithms.\n",
    "- Too many features and some algorithms can be distracted or suffer poor performance due\n",
    "to the curse of dimensionality.\n",
    "\n",
    "You can review the shape and size of your dataset by printing the shape property on the\n",
    "Pandas DataFrame."
   ]
  },
  {
   "cell_type": "code",
   "execution_count": null,
   "metadata": {
    "collapsed": false
   },
   "outputs": [],
   "source": [
    "# Data Types for Each Attribute\n",
    "from pandas import read_csv\n",
    "filename = \"pima-indians-diabetes.data.csv\"\n",
    "names = ['preg', 'plas', 'pres', 'skin', 'test', 'mass', 'pedi', 'age', 'class']\n",
    "data = read_csv(filename, names=names)\n",
    "types = data.dtypes\n",
    "print(types)"
   ]
  },
  {
   "cell_type": "markdown",
   "metadata": {},
   "source": [
    "### Descriptive Statistics\n",
    "Descriptive statistics can give you great insight into the shape of each attribute. Often you can\n",
    "create more summaries than you have time to review. The describe() function on the Pandas\n",
    "DataFrame lists 8 statistical properties of each attribute. They are:\n",
    "- Count.\n",
    "- Mean.\n",
    "- Standard Deviation.\n",
    "- Minimum Value.\n",
    "- 25th Percentile.\n",
    "- 50th Percentile (Median).\n",
    "- 75th Percentile.\n",
    "- Maximum Value."
   ]
  },
  {
   "cell_type": "code",
   "execution_count": null,
   "metadata": {
    "collapsed": false
   },
   "outputs": [],
   "source": [
    "# Statistical Summary\n",
    "from pandas import read_csv\n",
    "from pandas import set_option\n",
    "filename = \"pima-indians-diabetes.data.csv\"\n",
    "names = ['preg', 'plas', 'pres', 'skin', 'test', 'mass', 'pedi', 'age', 'class']\n",
    "data = read_csv(filename, names=names)\n",
    "set_option('display.width', 100)\n",
    "set_option('precision', 3)\n",
    "description = data.describe()\n",
    "print(description)\n"
   ]
  },
  {
   "cell_type": "markdown",
   "metadata": {},
   "source": [
    "You can see that you do get a lot of data. You will note some calls to pandas.set option()\n",
    "in the recipe to change the precision of the numbers and the preferred width of the output. This\n",
    "is to make it more readable for this example. When describing your data this way, it is worth\n",
    "taking some time and reviewing observations from the results. This might include the presence\n",
    "of NA values for missing data or surprising distributions for attributes."
   ]
  },
  {
   "cell_type": "markdown",
   "metadata": {},
   "source": [
    "### Class Distribution (Classification Only)\n",
    "On classification problems you need to know how balanced the class values are. Highly imbalanced\n",
    "problems (a lot more observations for one class than another) are common and may need special\n",
    "handling in the data preparation stage of your project. You can quickly get an idea of the\n",
    "distribution of the class attribute in Pandas.\n"
   ]
  },
  {
   "cell_type": "code",
   "execution_count": null,
   "metadata": {
    "collapsed": false
   },
   "outputs": [],
   "source": [
    "# Class Distribution\n",
    "from pandas import read_csv\n",
    "filename = \"pima-indians-diabetes.data.csv\"\n",
    "names = ['preg', 'plas', 'pres', 'skin', 'test', 'mass', 'pedi', 'age', 'class']\n",
    "data = read_csv(filename, names=names)\n",
    "class_counts = data.groupby('class').size()\n",
    "print(class_counts)"
   ]
  },
  {
   "cell_type": "markdown",
   "metadata": {},
   "source": [
    "## Correlations Between Attributes\n",
    "Correlation refers to the relationship between two variables and how they may or may not\n",
    "change together. The most common method for calculating correlation is Pearson’s Correlation\n",
    "Coefficient, that assumes a normal distribution of the attributes involved. A correlation of -1\n",
    "or 1 shows a full negative or positive correlation respectively. Whereas a value of 0 shows no\n",
    "correlation at all. Some machine learning algorithms like linear and logistic regression can suffer\n",
    "poor performance if there are highly correlated attributes in your dataset. As such, it is a good\n",
    "idea to review all of the pairwise correlations of the attributes in your dataset. You can use the\n",
    "corr() function on the Pandas DataFrame to calculate a correlation matrix.\n"
   ]
  },
  {
   "cell_type": "code",
   "execution_count": null,
   "metadata": {
    "collapsed": false
   },
   "outputs": [],
   "source": [
    "# Pairwise Pearson correlations\n",
    "from pandas import read_csv\n",
    "from pandas import set_option\n",
    "filename = \"pima-indians-diabetes.data.csv\"\n",
    "names = ['preg', 'plas', 'pres', 'skin', 'test', 'mass', 'pedi', 'age', 'class']\n",
    "data = read_csv(filename, names=names)\n",
    "set_option('display.width', 100)\n",
    "set_option('precision', 3)\n",
    "correlations = data.corr(method='pearson')\n",
    "print(correlations)"
   ]
  },
  {
   "cell_type": "markdown",
   "metadata": {},
   "source": [
    "### Skew of Univariate Distributions\n",
    "Skew refers to a distribution that is assumed Gaussian (normal or bell curve) that is shifted or\n",
    "squashed in one direction or another. Many machine learning algorithms assume a Gaussian\n",
    "distribution. Knowing that an attribute has a skew may allow you to perform data preparation\n",
    "to correct the skew and later improve the accuracy of your models. You can calculate the skew\n",
    "of each attribute using the skew() function on the Pandas DataFrame.\n"
   ]
  },
  {
   "cell_type": "code",
   "execution_count": null,
   "metadata": {
    "collapsed": false
   },
   "outputs": [],
   "source": [
    "# Skew for each attribute\n",
    "from pandas import read_csv\n",
    "filename = \"pima-indians-diabetes.data.csv\"\n",
    "names = ['preg', 'plas', 'pres', 'skin', 'test', 'mass', 'pedi', 'age', 'class']\n",
    "data = read_csv(filename, names=names)\n",
    "skew = data.skew()\n",
    "print(skew)\n"
   ]
  },
  {
   "cell_type": "markdown",
   "metadata": {},
   "source": [
    "### Tips To Remember\n",
    "This section gives you some tips to remember when reviewing your data using summary statistics.\n",
    "- Review the numbers. Generating the summary statistics is not enough. Take a moment\n",
    "to pause, read and really think about the numbers you are seeing.\n",
    "- Ask why. Review your numbers and ask a lot of questions. How and why are you seeing\n",
    "specific numbers. Think about how the numbers relate to the problem domain in general\n",
    "and specific entities that observations relate to.\n",
    "- Write down ideas. Write down your observations and ideas. Keep a small text file or\n",
    "note pad and jot down all of the ideas for how variables may relate, for what numbers\n",
    "mean, and ideas for techniques to try later. The things you write down now while the\n",
    "data is fresh will be very valuable later when you are trying to think up new things to try"
   ]
  },
  {
   "cell_type": "markdown",
   "metadata": {},
   "source": [
    "### Summary\n",
    "In this section you discovered how to load your machine learning data in Python. You learned\n",
    "three specific techniques that you can use:\n",
    "- Load CSV Files with the Python Standard Library.\n",
    "- Load CSV Files with NumPy.\n",
    "- Load CSV Files with Pandas.\n",
    "\n",
    "You also discovered the importance of describing your dataset before you start work\n",
    "on your machine learning project. You discovered 7 different ways to summarize your dataset\n",
    "using Python and Pandas:\n",
    "- Peek At Your Data.\n",
    "- Dimensions of Your Data.\n",
    "- Data Types.\n",
    "- Class Distribution.\n",
    "- Data Summary.\n",
    "- Correlations.\n",
    "- Skewness.\n",
    "\n",
    "### Next\n",
    "Another excellent way that you can use to better understand your data is by generating plots\n",
    "and charts. In the next lesson you will discover how you can visualize your data for machine\n",
    "learning in Python."
   ]
  },
  {
   "cell_type": "markdown",
   "metadata": {},
   "source": [
    "### About the Pima Indian Dataset\n",
    "\n",
    "#### Attribute Information:\n",
    "\n",
    "1. Number of times pregnant \n",
    "2. Plasma glucose concentration a 2 hours in an oral glucose tolerance test \n",
    "3. Diastolic blood pressure (mm Hg) \n",
    "4. Triceps skin fold thickness (mm) \n",
    "5. 2-Hour serum insulin (mu U/ml) \n",
    "6. Body mass index (weight in kg/(height in m)^2) \n",
    "7. Diabetes pedigree function \n",
    "8. Age (years) \n",
    "9. Class variable (0 or 1) "
   ]
  }
 ],
 "metadata": {
  "anaconda-cloud": {},
  "kernelspec": {
   "display_name": "Python [conda root]",
   "language": "python",
   "name": "conda-root-py"
  },
  "language_info": {
   "codemirror_mode": {
    "name": "ipython",
    "version": 2
   },
   "file_extension": ".py",
   "mimetype": "text/x-python",
   "name": "python",
   "nbconvert_exporter": "python",
   "pygments_lexer": "ipython2",
   "version": "2.7.12"
  }
 },
 "nbformat": 4,
 "nbformat_minor": 1
}
