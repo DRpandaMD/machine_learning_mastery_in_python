{
 "cells": [
  {
   "cell_type": "markdown",
   "metadata": {},
   "source": [
    "# Save and Load Machine Learning Models\n",
    "\n",
    "><small><i>from the book \n",
    "\"Machine Learning Mastery With Python: Understand Your Data, Create Accurate Models and Work Projects End-To-End\"\n",
    "by Jason Brownlee, Migrated to Jupyter with additions by Mitch Sanders 2017</i></small>\n",
    "\n",
    "\n"
   ]
  },
  {
   "cell_type": "markdown",
   "metadata": {},
   "source": [
    "Finding an accurate machine learning model is not the end of the project. In this chapter you\n",
    "will discover how to save and load your machine learning model in Python using scikit-learn.\n",
    "This allows you to save your model to file and load it later in order to make predictions. After\n",
    "completing this lesson you will know:\n",
    "\n",
    "1. The importance of serializing models for reuse.\n",
    "2. How to use pickle to serialize and deserialize machine learning models.\n",
    "3. How to use Joblib to serialize and deserialize machine learning models.\n",
    "\n",
    "Let’s get started."
   ]
  },
  {
   "cell_type": "markdown",
   "metadata": {},
   "source": [
    "## Finalize Your Model with pickle\n",
    "\n",
    "Pickle is the standard way of serializing objects in Python. You can use the pickle1 operation\n",
    "to serialize your machine learning algorithms and save the serialized format to a file. Later you\n",
    "can load this file to deserialize your model and use it to make new predictions. The example\n",
    "below demonstrates how you can train a logistic regression model on the Pima Indians onset of\n",
    "diabetes dataset, save the model to file and load it to make predictions on the unseen test set.\n",
    "\n",
    "https://docs.python.org/2/library/pickle.html\n"
   ]
  },
  {
   "cell_type": "code",
   "execution_count": 1,
   "metadata": {
    "collapsed": false
   },
   "outputs": [
    {
     "name": "stdout",
     "output_type": "stream",
     "text": [
      "0.755905511811\n"
     ]
    }
   ],
   "source": [
    "# Save Model Using Pickle\n",
    "from pandas import read_csv\n",
    "from sklearn.model_selection import train_test_split\n",
    "from sklearn.linear_model import LogisticRegression\n",
    "from pickle import dump\n",
    "from pickle import load\n",
    "filename = 'pima-indians-diabetes.data.csv'\n",
    "names = ['preg', 'plas', 'pres', 'skin', 'test', 'mass', 'pedi', 'age', 'class']\n",
    "dataframe = read_csv(filename, names=names)\n",
    "array = dataframe.values\n",
    "X = array[:,0:8]\n",
    "Y = array[:,8]\n",
    "X_train, X_test, Y_train, Y_test = train_test_split(X, Y, test_size=0.33, random_state=7)\n",
    "# Fit the model on 33%\n",
    "model = LogisticRegression()\n",
    "model.fit(X_train, Y_train)\n",
    "# save the model to disk\n",
    "filename = 'finalized_model.sav'\n",
    "dump(model, open(filename, 'wb'))\n",
    "\n",
    "# some time later...\n",
    "\n",
    "# load the model from disk\n",
    "loaded_model = load(open(filename, 'rb'))\n",
    "result = loaded_model.score(X_test, Y_test)\n",
    "print(result)\n"
   ]
  },
  {
   "cell_type": "markdown",
   "metadata": {},
   "source": [
    "Running the example saves the model to finalized model.sav in your local working\n",
    "directory. Load the saved model and evaluating it provides an estimate of accuracy of the model\n",
    "on unseen data."
   ]
  },
  {
   "cell_type": "markdown",
   "metadata": {},
   "source": [
    "## Finalize Your Model with Joblib\n",
    "\n",
    "The Joblib library is part of the SciPy ecosystem and provides utilities for pipelining Python\n",
    "jobs. It provides utilities for saving and loading Python objects that make use of NumPy data\n",
    "structures, efficiently. This can be useful for some machine learning algorithms that require a\n",
    "lot of parameters or store the entire dataset (e.g. k-Nearest Neighbors). The example below\n",
    "demonstrates how you can train a logistic regression model on the Pima Indians onset of diabetes\n",
    "dataset, save the model to file using Joblib and load it to make predictions on the unseen test\n",
    "set.\n",
    "\n",
    "https://pypi.python.org/pypi/joblib\n",
    "\n",
    "https://pythonhosted.org/joblib/generated/joblib.dump.html\n"
   ]
  },
  {
   "cell_type": "code",
   "execution_count": 2,
   "metadata": {
    "collapsed": false
   },
   "outputs": [
    {
     "name": "stdout",
     "output_type": "stream",
     "text": [
      "0.755905511811\n"
     ]
    }
   ],
   "source": [
    "# Save Model Using joblib\n",
    "from pandas import read_csv\n",
    "from sklearn.model_selection import train_test_split\n",
    "from sklearn.linear_model import LogisticRegression\n",
    "from sklearn.externals.joblib import dump\n",
    "from sklearn.externals.joblib import load\n",
    "filename = 'pima-indians-diabetes.data.csv'\n",
    "names = ['preg', 'plas', 'pres', 'skin', 'test', 'mass', 'pedi', 'age', 'class']\n",
    "dataframe = read_csv(filename, names=names)\n",
    "array = dataframe.values\n",
    "X = array[:,0:8]\n",
    "Y = array[:,8]\n",
    "X_train, X_test, Y_train, Y_test = train_test_split(X, Y, test_size=0.33, random_state=7)\n",
    "# Fit the model on 33%\n",
    "model = LogisticRegression()\n",
    "model.fit(X_train, Y_train)\n",
    "# save the model to disk\n",
    "filename = 'finalized_model.sav'\n",
    "dump(model, filename)\n",
    "\n",
    "# some time later...\n",
    "\n",
    "# load the model from disk\n",
    "loaded_model = load(filename)\n",
    "result = loaded_model.score(X_test, Y_test)\n",
    "print(result)\n"
   ]
  },
  {
   "cell_type": "markdown",
   "metadata": {},
   "source": [
    "## Tips for Finalizing Your Model\n",
    "This section lists some important considerations when finalizing your machine learning models.\n",
    "\n",
    "- **Python Version.** Take note of the Python version. You almost certainly require the\n",
    "same major (and maybe minor) version of Python used to serialize the model when you\n",
    "later load it and deserialize it.\n",
    "\n",
    "- **Library Versions.** The version of all major libraries used in your machine learning\n",
    "project almost certainly need to be the same when deserializing a saved model. This is\n",
    "not limited to the version of NumPy and the version of scikit-learn.\n",
    "\n",
    "- **Manual Serialization.** You might like to manually output the parameters of your\n",
    "learned model so that you can use them directly in scikit-learn or another platform in\n",
    "the future. Often the techniques used internally by machine learning algorithms to make\n",
    "predictions are a lot simpler than those used to learn the parameters and can be easy to\n",
    "implement in custom code that you have control over.\n",
    "\n",
    "Take note of the version so that you can re-create the environment if for some reason you\n",
    "cannot reload your model on another machine or another platform at a later time.\n",
    "\n",
    "## Summary\n",
    "\n",
    "In this chapter you discovered how to persist your machine learning algorithms in Python with\n",
    "scikit-learn. You learned two techniques that you can use:\n",
    "\n",
    "- The pickle API for serializing standard Python objects.\n",
    "- The Joblib API for efficiently serializing Python objects with NumPy arrays.\n",
    "\n",
    "\n",
    "### Next\n",
    "\n",
    "This concludes your lessons on machine learning in Python with SciPy and scikit-learn. Next in\n",
    "Part III you will tie together everything you have learned and work through end-to-end applied\n",
    "machine learning projects.\n"
   ]
  },
  {
   "cell_type": "markdown",
   "metadata": {},
   "source": [
    "<hr>"
   ]
  },
  {
   "cell_type": "markdown",
   "metadata": {},
   "source": [
    "<hr>"
   ]
  },
  {
   "cell_type": "markdown",
   "metadata": {},
   "source": [
    "### About the Pima Indian Dataset \n",
    "\n",
    "#### Attribute Information:\n",
    "\n",
    "1. Number of times pregnant \n",
    "2. Plasma glucose concentration a 2 hours in an oral glucose tolerance test \n",
    "3. Diastolic blood pressure (mm Hg) \n",
    "4. Triceps skin fold thickness (mm) \n",
    "5. 2-Hour serum insulin (mu U/ml) \n",
    "6. Body mass index (weight in kg/(height in m)^2) \n",
    "7. Diabetes pedigree function \n",
    "8. Age (years) \n",
    "9. Class variable (0 or 1) "
   ]
  }
 ],
 "metadata": {
  "anaconda-cloud": {},
  "kernelspec": {
   "display_name": "Python [conda root]",
   "language": "python",
   "name": "conda-root-py"
  },
  "language_info": {
   "codemirror_mode": {
    "name": "ipython",
    "version": 2
   },
   "file_extension": ".py",
   "mimetype": "text/x-python",
   "name": "python",
   "nbconvert_exporter": "python",
   "pygments_lexer": "ipython2",
   "version": "2.7.12"
  }
 },
 "nbformat": 4,
 "nbformat_minor": 1
}
