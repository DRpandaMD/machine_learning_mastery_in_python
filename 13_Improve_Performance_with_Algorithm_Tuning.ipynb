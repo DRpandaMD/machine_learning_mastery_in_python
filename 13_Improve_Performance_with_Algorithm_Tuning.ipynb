{
 "cells": [
  {
   "cell_type": "markdown",
   "metadata": {},
   "source": [
    "# Improve Performance with Algorithm Tuning\n",
    "\n",
    "><small><i>from the book \n",
    "\"Machine Learning Mastery With Python: Understand Your Data, Create Accurate Models and Work Projects End-To-End\"\n",
    "by Jason Brownlee, Migrated to Jupyter with additions by Mitch Sanders 2017</i></small>\n",
    "\n",
    "\n"
   ]
  },
  {
   "cell_type": "markdown",
   "metadata": {},
   "source": [
    "Machine learning models are parameterized so that their behavior can be tuned for a given\n",
    "problem. Models can have many parameters and finding the best combination of parameters can\n",
    "be treated as a search problem. In this chapter you will discover how to tune the parameters of\n",
    "machine learning algorithms in Python using the scikit-learn. After completing this lesson you\n",
    "will know:\n",
    "\n",
    "1. The importance of algorithm parameter tuning to improve algorithm performance.\n",
    "2. How to use a grid search algorithm tuning strategy.\n",
    "3. How to use a random search algorithm tuning strategy.\n",
    "\n",
    "Let’s get started.\n"
   ]
  },
  {
   "cell_type": "markdown",
   "metadata": {},
   "source": [
    "## Machine Learning Algorithm Parameters\n",
    "\n",
    "Algorithm tuning is a final step in the process of applied machine learning before finalizing your\n",
    "model. It is sometimes called hyperparameter optimization where the algorithm parameters\n",
    "are referred to as hyperparameters, whereas the coefficients found by the machine learning\n",
    "algorithm itself are referred to as parameters. Optimization suggests the search-nature of the\n",
    "problem. Phrased as a search problem, you can use different search strategies to find a good and\n",
    "robust parameter or set of parameters for an algorithm on a given problem. Python scikit-learn\n",
    "provides two simple methods for algorithm parameter tuning:\n",
    "\n",
    "- **Grid Search Parameter Tuning.**\n",
    "- **Random Search Parameter Tuning.**\n",
    "\n",
    "## Grid Search Parameter Tuning\n",
    "Grid search is an approach to parameter tuning that will methodically build and evaluate a\n",
    "model for each combination of algorithm parameters specified in a grid. You can perform a grid search using the GridSearchCV class. The example below evaluates different alpha values for\n",
    "the Ridge Regression algorithm on the standard diabetes dataset. This is a one-dimensional\n",
    "grid search.\n",
    "\n",
    "\n",
    "http://scikit-learn.org/stable/modules/generated/sklearn.model_selection.GridSearchCV.html\n",
    "\n"
   ]
  },
  {
   "cell_type": "code",
   "execution_count": 1,
   "metadata": {
    "collapsed": false
   },
   "outputs": [
    {
     "name": "stdout",
     "output_type": "stream",
     "text": [
      "0.279617559313\n",
      "1.0\n"
     ]
    }
   ],
   "source": [
    "# Grid Search for Algorithm Tuning\n",
    "import numpy\n",
    "from pandas import read_csv\n",
    "from sklearn.linear_model import Ridge\n",
    "from sklearn.model_selection import GridSearchCV\n",
    "filename = 'pima-indians-diabetes.data.csv'\n",
    "names = ['preg', 'plas', 'pres', 'skin', 'test', 'mass', 'pedi', 'age', 'class']\n",
    "dataframe = read_csv(filename, names=names)\n",
    "array = dataframe.values\n",
    "X = array[:,0:8]\n",
    "Y = array[:,8]\n",
    "alphas = numpy.array([1,0.1,0.01,0.001,0.0001,0])\n",
    "param_grid = dict(alpha=alphas)\n",
    "model = Ridge()\n",
    "grid = GridSearchCV(estimator=model, param_grid=param_grid)\n",
    "grid.fit(X, Y)\n",
    "print(grid.best_score_)\n",
    "print(grid.best_estimator_.alpha)\n"
   ]
  },
  {
   "cell_type": "markdown",
   "metadata": {},
   "source": [
    "Running the example lists out the optimal score achieved and the set of parameters in the\n",
    "grid that achieved that score. In this case the alpha value of 1.0.\n"
   ]
  },
  {
   "cell_type": "markdown",
   "metadata": {},
   "source": [
    "## Random Search Parameter Tuning\n",
    "Random search is an approach to parameter tuning that will sample algorithm parameters from\n",
    "a random distribution (i.e. uniform) for a fixed number of iterations. A model is constructed\n",
    "and evaluated for each combination of parameters chosen. You can perform a random search\n",
    "for algorithm parameters using the RandomizedSearchCV class. The example below evaluates\n",
    "different random alpha values between 0 and 1 for the Ridge Regression algorithm on the\n",
    "standard diabetes dataset. A total of 100 iterations are performed with uniformly random alpha\n",
    "values selected in the range between 0 and 1 (the range that alpha values can take).\n",
    "\n",
    "http://scikit-learn.org/stable/modules/generated/sklearn.model_selection.RandomizedSearchCV.html\n"
   ]
  },
  {
   "cell_type": "code",
   "execution_count": 2,
   "metadata": {
    "collapsed": false
   },
   "outputs": [
    {
     "name": "stdout",
     "output_type": "stream",
     "text": [
      "0.279617127031\n",
      "0.977989511997\n"
     ]
    }
   ],
   "source": [
    "# Randomized for Algorithm Tuning\n",
    "import numpy\n",
    "from pandas import read_csv\n",
    "from scipy.stats import uniform\n",
    "from sklearn.linear_model import Ridge\n",
    "from sklearn.model_selection import RandomizedSearchCV\n",
    "filename = 'pima-indians-diabetes.data.csv'\n",
    "names = ['preg', 'plas', 'pres', 'skin', 'test', 'mass', 'pedi', 'age', 'class']\n",
    "dataframe = read_csv(filename, names=names)\n",
    "array = dataframe.values\n",
    "X = array[:,0:8]\n",
    "Y = array[:,8]\n",
    "param_grid = {'alpha': uniform()}\n",
    "model = Ridge()\n",
    "rsearch = RandomizedSearchCV(estimator=model, param_distributions=param_grid, n_iter=100, random_state=7)\n",
    "rsearch.fit(X, Y)\n",
    "print(rsearch.best_score_)\n",
    "print(rsearch.best_estimator_.alpha)\n"
   ]
  },
  {
   "cell_type": "markdown",
   "metadata": {},
   "source": [
    "\n",
    "Running the example produces results much like those in the grid search example above. An\n",
    "optimal alpha value near 1.0 is discovered.\n"
   ]
  },
  {
   "cell_type": "markdown",
   "metadata": {},
   "source": [
    "## Summary\n",
    "\n",
    "Algorithm parameter tuning is an important step for improving algorithm performance right\n",
    "before presenting results or preparing a system for production. In this chapter you discovered\n",
    "algorithm parameter tuning and two methods that you can use right now in Python and\n",
    "scikit-learn to improve your algorithm results:\n",
    "\n",
    "- Grid Search Parameter Tuning\n",
    "- Random Search Parameter Tuning\n",
    "\n",
    "###  Next\n",
    "\n",
    "This lesson concludes the coverage of techniques that you can use to improve the performance of\n",
    "algorithms on your dataset. In the next and final lesson you will discover how you can finalize\n",
    "your model for using it on unseen data.\n"
   ]
  },
  {
   "cell_type": "markdown",
   "metadata": {},
   "source": [
    "<hr>"
   ]
  },
  {
   "cell_type": "markdown",
   "metadata": {},
   "source": [
    "### About the Pima Indian Dataset \n",
    "\n",
    "#### Attribute Information:\n",
    "\n",
    "1. Number of times pregnant \n",
    "2. Plasma glucose concentration a 2 hours in an oral glucose tolerance test \n",
    "3. Diastolic blood pressure (mm Hg) \n",
    "4. Triceps skin fold thickness (mm) \n",
    "5. 2-Hour serum insulin (mu U/ml) \n",
    "6. Body mass index (weight in kg/(height in m)^2) \n",
    "7. Diabetes pedigree function \n",
    "8. Age (years) \n",
    "9. Class variable (0 or 1) "
   ]
  }
 ],
 "metadata": {
  "anaconda-cloud": {},
  "kernelspec": {
   "display_name": "Python [conda root]",
   "language": "python",
   "name": "conda-root-py"
  },
  "language_info": {
   "codemirror_mode": {
    "name": "ipython",
    "version": 2
   },
   "file_extension": ".py",
   "mimetype": "text/x-python",
   "name": "python",
   "nbconvert_exporter": "python",
   "pygments_lexer": "ipython2",
   "version": "2.7.12"
  }
 },
 "nbformat": 4,
 "nbformat_minor": 1
}
